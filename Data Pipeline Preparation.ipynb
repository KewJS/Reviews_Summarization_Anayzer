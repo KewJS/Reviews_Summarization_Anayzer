{
 "cells": [
  {
   "cell_type": "code",
   "execution_count": 32,
   "id": "split-destruction",
   "metadata": {},
   "outputs": [],
   "source": [
    "import os\n",
    "import numpy as np\n",
    "import pandas as pd\n",
    "from pathlib import Path\n",
    "from pdfminer.high_level import extract_text\n",
    "\n",
    "from src.config import Config"
   ]
  },
  {
   "cell_type": "code",
   "execution_count": 9,
   "id": "0d3a9111",
   "metadata": {},
   "outputs": [],
   "source": [
    "BASE_DIR = Path().parent.resolve()\n",
    "DATA_DIR = os.path.join(BASE_DIR, \"data\")\n",
    "PDF_DATA_DIR = os.path.join(BASE_DIR, \"data\", \"pdf\")"
   ]
  },
  {
   "cell_type": "code",
   "execution_count": 25,
   "id": "promising-michigan",
   "metadata": {},
   "outputs": [
    {
     "data": {
      "text/plain": [
       "5"
      ]
     },
     "execution_count": 25,
     "metadata": {},
     "output_type": "execute_result"
    }
   ],
   "source": [
    "pdf_files = os.listdir(PDF_DATA_DIR)\n",
    "\n",
    "len(pdf_files)"
   ]
  },
  {
   "cell_type": "markdown",
   "id": "mechanical-fraud",
   "metadata": {},
   "source": [
    "## Extract text from PDF files"
   ]
  },
  {
   "cell_type": "code",
   "execution_count": 28,
   "id": "republican-rates",
   "metadata": {},
   "outputs": [],
   "source": [
    "text_dict = {}\n",
    "\n",
    "for file in pdf_files:\n",
    "    read_pdf_file = os.path.join(PDF_DATA_DIR, file)\n",
    "    text = extract_text(read_pdf_file)\n",
    "    text_dict[file] = text"
   ]
  },
  {
   "cell_type": "code",
   "execution_count": 29,
   "id": "monthly-proportion",
   "metadata": {},
   "outputs": [],
   "source": [
    "df = pd.DataFrame(list(text_dict.items()), columns = [\"file_path\", \"raw_text\"])"
   ]
  },
  {
   "cell_type": "code",
   "execution_count": 30,
   "id": "constant-serial",
   "metadata": {},
   "outputs": [
    {
     "data": {
      "text/html": [
       "<div>\n",
       "<style scoped>\n",
       "    .dataframe tbody tr th:only-of-type {\n",
       "        vertical-align: middle;\n",
       "    }\n",
       "\n",
       "    .dataframe tbody tr th {\n",
       "        vertical-align: top;\n",
       "    }\n",
       "\n",
       "    .dataframe thead th {\n",
       "        text-align: right;\n",
       "    }\n",
       "</style>\n",
       "<table border=\"1\" class=\"dataframe\">\n",
       "  <thead>\n",
       "    <tr style=\"text-align: right;\">\n",
       "      <th></th>\n",
       "      <th>file_path</th>\n",
       "      <th>raw_text</th>\n",
       "    </tr>\n",
       "  </thead>\n",
       "  <tbody>\n",
       "    <tr>\n",
       "      <th>0</th>\n",
       "      <td>circle-of-life-hospice.pdf</td>\n",
       "      <td>Committed  \\nto providing  \\ncompassionate \\nc...</td>\n",
       "    </tr>\n",
       "    <tr>\n",
       "      <th>1</th>\n",
       "      <td>Concord Regional VNA Systems Success Story.pdf</td>\n",
       "      <td>EHR software \\ndelivers increased \\nproductivi...</td>\n",
       "    </tr>\n",
       "    <tr>\n",
       "      <th>2</th>\n",
       "      <td>first-choice-home-health-and-hospice.pdf</td>\n",
       "      <td>Eliminating paper \\nand improving \\norganizati...</td>\n",
       "    </tr>\n",
       "    <tr>\n",
       "      <th>3</th>\n",
       "      <td>Maple Knoll Communities success story.pdf</td>\n",
       "      <td>Residents  \\nfirst, technology \\nsecond\\n\\nSUC...</td>\n",
       "    </tr>\n",
       "    <tr>\n",
       "      <th>4</th>\n",
       "      <td>willow-health.pdf</td>\n",
       "      <td>Overcoming  \\nEHR adoption \\nhurdles\\n\\nSUCCES...</td>\n",
       "    </tr>\n",
       "  </tbody>\n",
       "</table>\n",
       "</div>"
      ],
      "text/plain": [
       "                                        file_path   \n",
       "0                      circle-of-life-hospice.pdf  \\\n",
       "1  Concord Regional VNA Systems Success Story.pdf   \n",
       "2        first-choice-home-health-and-hospice.pdf   \n",
       "3       Maple Knoll Communities success story.pdf   \n",
       "4                               willow-health.pdf   \n",
       "\n",
       "                                            raw_text  \n",
       "0  Committed  \\nto providing  \\ncompassionate \\nc...  \n",
       "1  EHR software \\ndelivers increased \\nproductivi...  \n",
       "2  Eliminating paper \\nand improving \\norganizati...  \n",
       "3  Residents  \\nfirst, technology \\nsecond\\n\\nSUC...  \n",
       "4  Overcoming  \\nEHR adoption \\nhurdles\\n\\nSUCCES...  "
      ]
     },
     "execution_count": 30,
     "metadata": {},
     "output_type": "execute_result"
    }
   ],
   "source": [
    "df"
   ]
  },
  {
   "cell_type": "markdown",
   "id": "swiss-sunrise",
   "metadata": {},
   "source": [
    "## Save Data\n",
    "\n",
    "Save dataset into a SQLite database"
   ]
  },
  {
   "cell_type": "code",
   "execution_count": 37,
   "id": "reliable-african",
   "metadata": {},
   "outputs": [
    {
     "data": {
      "text/plain": [
       "5"
      ]
     },
     "execution_count": 37,
     "metadata": {},
     "output_type": "execute_result"
    }
   ],
   "source": [
    "# import SQLAlchemy library\n",
    "from sqlalchemy import create_engine\n",
    "\n",
    "engine = create_engine(\"sqlite:///Text.db\")\n",
    "df.to_sql(\"Text_table\", engine, if_exists = \"replace\", index=False)"
   ]
  },
  {
   "cell_type": "code",
   "execution_count": null,
   "id": "described-choir",
   "metadata": {},
   "outputs": [],
   "source": []
  }
 ],
 "metadata": {
  "kernelspec": {
   "display_name": "Python 3 (ipykernel)",
   "language": "python",
   "name": "python3"
  },
  "language_info": {
   "codemirror_mode": {
    "name": "ipython",
    "version": 3
   },
   "file_extension": ".py",
   "mimetype": "text/x-python",
   "name": "python",
   "nbconvert_exporter": "python",
   "pygments_lexer": "ipython3",
   "version": "3.10.8"
  }
 },
 "nbformat": 4,
 "nbformat_minor": 5
}
